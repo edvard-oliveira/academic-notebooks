{
 "cells": [
  {
   "cell_type": "code",
   "execution_count": 1,
   "metadata": {
    "collapsed": true
   },
   "outputs": [],
   "source": [
    "import numpy as np\n",
    "import scipy as sp\n",
    "import pandas as pd\n",
    "import matplotlib.pyplot as plt\n",
    "import seaborn as sns"
   ]
  },
  {
   "cell_type": "code",
   "execution_count": 56,
   "metadata": {
    "collapsed": true
   },
   "outputs": [],
   "source": [
    "from sklearn.ensemble import AdaBoostRegressor, RandomForestRegressor, ExtraTreesRegressor\n",
    "from sklearn.tree import DecisionTreeRegressor"
   ]
  },
  {
   "cell_type": "code",
   "execution_count": 128,
   "metadata": {
    "collapsed": true
   },
   "outputs": [],
   "source": [
    "def obtain_models_by_hyperopt_file(filename, model=None, score_col='score', k=1):\n",
    "    df = pd.read_csv(filename)\n",
    "    \n",
    "    scores = []\n",
    "    models = []\n",
    "\n",
    "    for row in rf_best_df.sort_values( by=score_col ).head( k ).iterrows():\n",
    "        score, max_depth, max_features, min_samples_leaf = row[1][['r2score', 'max_depth',\n",
    "                                                                   'max_features', 'min_samples_leaf']]\n",
    "        \n",
    "        model_obj = model(max_depth=int(max_depth),\n",
    "                          max_features=max_features,\n",
    "                          min_samples_leaf=int(min_samples_leaf))\n",
    "        \n",
    "        scores.append(score)\n",
    "        models.append(model_obj)\n",
    "    \n",
    "    return(zip(scores, models))"
   ]
  },
  {
   "cell_type": "code",
   "execution_count": 129,
   "metadata": {
    "collapsed": false
   },
   "outputs": [],
   "source": [
    "rf_models = obtain_models_by_hyperopt_file(\"/home/fausto/temp/hyperopt-rf.csv\",\n",
    "                                           model=RandomForestRegressor,\n",
    "                                           score_col='r2score', k=5)\n",
    "\n",
    "et_models = obtain_models_by_hyperopt_file(\"/home/fausto/temp/hyperopt-et.csv\",\n",
    "                                           model=ExtraTreesRegressor,\n",
    "                                           score_col='r2score', k=5)\n",
    "\n",
    "dt_models = obtain_models_by_hyperopt_file(\"/home/fausto/temp/hyperopt-ada.csv\",\n",
    "                                           model=DecisionTreeRegressor,\n",
    "                                           score_col='r2score', k=5)"
   ]
  },
  {
   "cell_type": "code",
   "execution_count": 130,
   "metadata": {
    "collapsed": false
   },
   "outputs": [],
   "source": [
    "ada_models = []\n",
    "\n",
    "for score, model_obj in dt_models:\n",
    "    ada = AdaBoostRegressor(base_estimator=model_obj, n_estimators=100)\n",
    "    \n",
    "    ada_models.append((score, ada))"
   ]
  },
  {
   "cell_type": "code",
   "execution_count": 131,
   "metadata": {
    "collapsed": true
   },
   "outputs": [],
   "source": [
    "for rf in rf_models:\n",
    "    rf[1].set_params(n_estimators=100)"
   ]
  },
  {
   "cell_type": "code",
   "execution_count": 132,
   "metadata": {
    "collapsed": true
   },
   "outputs": [],
   "source": [
    "for et in et_models:\n",
    "    et[1].set_params(n_estimators=100)"
   ]
  },
  {
   "cell_type": "code",
   "execution_count": 133,
   "metadata": {
    "collapsed": false
   },
   "outputs": [],
   "source": [
    "models = rf_models + et_models + ada_models"
   ]
  },
  {
   "cell_type": "code",
   "execution_count": 134,
   "metadata": {
    "collapsed": false
   },
   "outputs": [],
   "source": [
    "df = pd.read_csv('data/manipulated_train.csv')\n",
    "X = df.drop(['SalePrice'], axis=1)\n",
    "y = df['SalePrice']"
   ]
  },
  {
   "cell_type": "code",
   "execution_count": 135,
   "metadata": {
    "collapsed": false
   },
   "outputs": [],
   "source": [
    "for model in models:\n",
    "    model[1].fit(X, y)"
   ]
  },
  {
   "cell_type": "code",
   "execution_count": 137,
   "metadata": {
    "collapsed": false
   },
   "outputs": [],
   "source": [
    "df = pd.read_csv('data/manipulated_test.csv')\n",
    "X_unseen = df"
   ]
  },
  {
   "cell_type": "code",
   "execution_count": 143,
   "metadata": {
    "collapsed": false
   },
   "outputs": [
    {
     "data": {
      "text/plain": [
       "array([ 11.70884292,  11.94646479,  12.09193467, ...,  11.92129225,\n",
       "        11.64692303,  12.35590864])"
      ]
     },
     "execution_count": 143,
     "metadata": {},
     "output_type": "execute_result"
    }
   ],
   "source": [
    "models[0][1].predict(X_unseen)"
   ]
  },
  {
   "cell_type": "code",
   "execution_count": 147,
   "metadata": {
    "collapsed": false
   },
   "outputs": [
    {
     "data": {
      "text/plain": [
       "array([ 10.43390544,  10.64565344,  10.77528358, ...,  10.62322185,\n",
       "        10.3787278 ,  11.01051429])"
      ]
     },
     "execution_count": 147,
     "metadata": {},
     "output_type": "execute_result"
    }
   ],
   "source": [
    "(1 - models[0][0]) * models[0][1].predict(X_unseen)"
   ]
  },
  {
   "cell_type": "code",
   "execution_count": 148,
   "metadata": {
    "collapsed": true
   },
   "outputs": [],
   "source": [
    "preds = None\n",
    "total_score = 0\n",
    "\n",
    "for model in models:\n",
    "    if preds is None:\n",
    "        preds = (1 - model[0]) * model[1].predict(X_unseen)\n",
    "    else:\n",
    "        preds += (1 - model[0]) * model[1].predict(X_unseen)\n",
    "        \n",
    "    total_score += 1 - model[0]"
   ]
  },
  {
   "cell_type": "code",
   "execution_count": 151,
   "metadata": {
    "collapsed": false
   },
   "outputs": [
    {
     "data": {
      "text/plain": [
       "array([ 11.72584038,  11.93108549,  12.08993841, ...,  11.92977201,\n",
       "        11.63445347,  12.348768  ])"
      ]
     },
     "execution_count": 151,
     "metadata": {},
     "output_type": "execute_result"
    }
   ],
   "source": [
    "preds / total_score"
   ]
  },
  {
   "cell_type": "code",
   "execution_count": null,
   "metadata": {
    "collapsed": true
   },
   "outputs": [],
   "source": []
  }
 ],
 "metadata": {
  "kernelspec": {
   "display_name": "Python 2",
   "language": "python",
   "name": "python2"
  },
  "language_info": {
   "codemirror_mode": {
    "name": "ipython",
    "version": 2
   },
   "file_extension": ".py",
   "mimetype": "text/x-python",
   "name": "python",
   "nbconvert_exporter": "python",
   "pygments_lexer": "ipython2",
   "version": "2.7.12"
  }
 },
 "nbformat": 4,
 "nbformat_minor": 2
}
